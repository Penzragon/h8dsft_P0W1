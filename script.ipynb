{
 "cells": [
  {
   "cell_type": "markdown",
   "metadata": {},
   "source": [
    "# Hacktiv8 Phase 0: Graded Challenge 1\n",
    "\n",
    "---\n",
    "\n",
    "Graded Challenge ini dibuat guna mengevaluasi pembelajaran pada Hacktiv8 Data Science Fulltime Program khususnya pada konsep Basic Python, Numpy, serta Data Preparation with Pandas."
   ]
  },
  {
   "cell_type": "markdown",
   "metadata": {},
   "source": [
    "## Introduction"
   ]
  },
  {
   "cell_type": "markdown",
   "metadata": {},
   "source": [
    "By [Rifky Aliffa](https://github.com/Penzragon)\n",
    "\n",
    "![Pokemon Logo](https://upload.wikimedia.org/wikipedia/commons/thumb/9/98/International_Pok%C3%A9mon_logo.svg/2560px-International_Pok%C3%A9mon_logo.svg.png)"
   ]
  },
  {
   "cell_type": "markdown",
   "metadata": {},
   "source": [
    "### Dataset\n",
    "\n",
    "Dataset yang digunakan dalam project ini adalah dataset **_Pokemon_**. Dataset ini berisi 800 pokemon dengan 13 kolom yang diantaranya adalah id, name, type 1, type 2, total stat, hp, attack, defense, special attack, special defense, speed, generation, dan rarity. Dataset dapat dilihat di [Kaggle](https://www.kaggle.com/abcsds/pokemon).\n",
    "\n",
    "Kolom pada dataset ini adalah:\n",
    "\n",
    "| Feature    | Description                                                                            |\n",
    "| ---------- | -------------------------------------------------------------------------------------- |\n",
    "| #          | ID for each pokemon                                                                    |\n",
    "| Name       | Name of each pokemon                                                                   |\n",
    "| Type 1     | Each pokemon has a type, this determines weakness/resistance to attacks                |\n",
    "| Type 2     | Some pokemon are dual type and have 2                                                  |\n",
    "| Total      | Sum of all stats that come after this                                                  |\n",
    "| HP         | Hit points, or health, defines how much damage a pokemon can withstand before fainting |\n",
    "| Attack     | The base modifier for normal attacks (eg. Scratch, Punch)                              |\n",
    "| Defense    | The base damage resistance against normal attacks                                      |\n",
    "| SP Atk     | The base damage resistance against normal attacks                                      |\n",
    "| SP Def     | The base damage resistance against special attacks                                     |\n",
    "| Speed      | Determines which pokemon attacks first each round                                      |\n",
    "| Generation | Generation of each pokemon                                                             |\n",
    "| Legendary  | Rarity of each pokemon                                                                 |\n"
   ]
  },
  {
   "cell_type": "markdown",
   "metadata": {},
   "source": [
    "### Objectives\n",
    "\n",
    "Tujuan dalam project ini adalah untuk mencari:\n",
    "\n",
    "- Pokemon dengan tipe apa yang paling banyak menjadi pokemon legendary?\n",
    "- Pokemon apa yang memiliki total stat paling tinggi?\n",
    "- Berapa perbedaan total stat antara pokemon legendary dengan pokemon normal?"
   ]
  },
  {
   "cell_type": "markdown",
   "metadata": {},
   "source": [
    "## Import Library\n",
    "\n",
    "Mengimport semua library yang akan digunakan, dalam project ini hanya menggunakan ***Pandas*** dan ***NumPy***."
   ]
  },
  {
   "cell_type": "code",
   "execution_count": 1,
   "metadata": {},
   "outputs": [],
   "source": [
    "import pandas as pd\n",
    "import numpy as np"
   ]
  }
 ],
 "metadata": {
  "interpreter": {
   "hash": "112f40161e87cdf99d798de2b86adf76c0b833717b9d65fa1f256b9c887e27bf"
  },
  "kernelspec": {
   "display_name": "Python 3.9.1 64-bit",
   "language": "python",
   "name": "python3"
  },
  "language_info": {
   "codemirror_mode": {
    "name": "ipython",
    "version": 3
   },
   "file_extension": ".py",
   "mimetype": "text/x-python",
   "name": "python",
   "nbconvert_exporter": "python",
   "pygments_lexer": "ipython3",
   "version": "3.9.1"
  },
  "orig_nbformat": 4
 },
 "nbformat": 4,
 "nbformat_minor": 2
}
